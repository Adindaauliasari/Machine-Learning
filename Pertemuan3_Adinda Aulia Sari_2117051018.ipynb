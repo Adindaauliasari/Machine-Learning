{
  "nbformat": 4,
  "nbformat_minor": 0,
  "metadata": {
    "colab": {
      "provenance": []
    },
    "kernelspec": {
      "name": "python3",
      "display_name": "Python 3"
    },
    "language_info": {
      "name": "python"
    }
  },
  "cells": [
    {
      "cell_type": "markdown",
      "source": [
        "## Pertemuan 3"
      ],
      "metadata": {
        "id": "oh3zQyukgksK"
      }
    },
    {
      "cell_type": "markdown",
      "source": [
        "## Library"
      ],
      "metadata": {
        "id": "s38GOo15gw3S"
      }
    },
    {
      "cell_type": "code",
      "source": [
        "import numpy as np\n",
        "import pandas as pd\n",
        "import scipy\n",
        "from scipy.spatial.distance import cityblock, mahalanobis"
      ],
      "metadata": {
        "id": "4JSw0fHxgzgT"
      },
      "execution_count": 6,
      "outputs": []
    },
    {
      "cell_type": "markdown",
      "source": [
        "## Dataset"
      ],
      "metadata": {
        "id": "EnPTjGyshEl6"
      }
    },
    {
      "cell_type": "code",
      "source": [
        "# dataset pertama untuk perhitungan euclidean distance\n",
        "P1 = np.array((4, 1))\n",
        "P2 = np.array((1, 3))\n",
        "\n",
        "# dataset kedua untuk perhitungan mahalanobis distance\n",
        "X = np.array([[7.0, 165, 5], [7.4, 160, 5], [7.1, 170, 4], [7.3, 150, 5], [7.2, 160, 3]])"
      ],
      "metadata": {
        "id": "_SKZgWUYhHzZ"
      },
      "execution_count": 7,
      "outputs": []
    },
    {
      "cell_type": "code",
      "source": [
        "# info dataset \n",
        "print(X.shape)\n",
        "print(X.ndim)\n",
        "print(X)"
      ],
      "metadata": {
        "colab": {
          "base_uri": "https://localhost:8080/"
        },
        "id": "EWyIyQfbjYIm",
        "outputId": "cdb0f950-2316-4184-97eb-6538accaea55"
      },
      "execution_count": 8,
      "outputs": [
        {
          "output_type": "stream",
          "name": "stdout",
          "text": [
            "(5, 3)\n",
            "2\n",
            "[[  7.  165.    5. ]\n",
            " [  7.4 160.    5. ]\n",
            " [  7.1 170.    4. ]\n",
            " [  7.3 150.    5. ]\n",
            " [  7.2 160.    3. ]]\n"
          ]
        }
      ]
    },
    {
      "cell_type": "markdown",
      "source": [
        "## Calculate Distance"
      ],
      "metadata": {
        "id": "sYJnrfeImAsM"
      }
    },
    {
      "cell_type": "markdown",
      "source": [
        "## Manhattan Distance"
      ],
      "metadata": {
        "id": "txTaVtdHmE1W"
      }
    },
    {
      "cell_type": "code",
      "source": [
        "mht_dist = cityblock(P1, P2)\n",
        "print(mht_dist)"
      ],
      "metadata": {
        "colab": {
          "base_uri": "https://localhost:8080/"
        },
        "id": "i2kjWhAqnOCI",
        "outputId": "838ece49-2e10-4a26-bc34-ff4422f82d1e"
      },
      "execution_count": 9,
      "outputs": [
        {
          "output_type": "stream",
          "name": "stdout",
          "text": [
            "5\n"
          ]
        }
      ]
    },
    {
      "cell_type": "markdown",
      "source": [
        "## Euclidean Distance"
      ],
      "metadata": {
        "id": "pNnxwPIXnX9q"
      }
    },
    {
      "cell_type": "code",
      "source": [
        "# hitung selisih antara dua vectors\n",
        "temp = P1 - P2\n",
        "\n",
        "# gunakan formula euclidean d library numpy\n",
        "euclid_dist = np.sqrt(np.dot(temp.T, temp))\n",
        "print(euclid_dist)\n",
        "# print(np.dot(temp.T, temp))"
      ],
      "metadata": {
        "colab": {
          "base_uri": "https://localhost:8080/"
        },
        "id": "fsiPE59encX9",
        "outputId": "65593c91-e799-4c66-8854-3d3384fe92b3"
      },
      "execution_count": 10,
      "outputs": [
        {
          "output_type": "stream",
          "name": "stdout",
          "text": [
            "3.605551275463989\n"
          ]
        }
      ]
    },
    {
      "cell_type": "markdown",
      "source": [],
      "metadata": {
        "id": "9MOAMznHoGfe"
      }
    },
    {
      "cell_type": "markdown",
      "source": [
        "## Mahalanobis Distance"
      ],
      "metadata": {
        "id": "k4rp7HBRoGsk"
      }
    },
    {
      "cell_type": "code",
      "source": [
        "# Hitung kovarians dan inverse kovarians dari dataset\n",
        "cov = np.cov(X.T)\n",
        "inv_cov = np.linalg.inv(cov)\n",
        "\n",
        "# Dua data baru dalam dataset \n",
        "x1 = np.array([7.1, 145, 3])\n",
        "x2 = np.array([6.0, 100, 5])\n",
        "\n",
        "# Hitung jarak Mahalamobis antara dua titik\n",
        "mhlnbs_dist = mahalanobis(x1, x2, inv_cov)\n",
        "print(mhlnbs_dist)"
      ],
      "metadata": {
        "colab": {
          "base_uri": "https://localhost:8080/"
        },
        "id": "XT78MrMVoKVB",
        "outputId": "b628e634-dee8-4ef8-e920-71a0734051fe"
      },
      "execution_count": 11,
      "outputs": [
        {
          "output_type": "stream",
          "name": "stdout",
          "text": [
            "15.370699331286659\n"
          ]
        }
      ]
    },
    {
      "cell_type": "markdown",
      "source": [
        "#Soal  "
      ],
      "metadata": {
        "id": "rRSpI70bE5Ge"
      }
    },
    {
      "cell_type": "markdown",
      "source": [
        "* Tentukan mahalanobis distance untuk setiap row yang ada didata ini\n",
        "* Normalisasi juga hasil mahalanobis distance menggunakan perhitungan p-value "
      ],
      "metadata": {
        "id": "3iFhnszTFAbT"
      }
    },
    {
      "cell_type": "code",
      "source": [
        "def mahalanobis(x, data):\n",
        "  x_min_mean = x - np.mean(data)\n",
        "  inv_cov = np.linalg.inv(np.cov(data.T))\n",
        "\n",
        "  return np.dot(np.dot(x_min_mean, inv_cov), x_min_mean.T).diagonal()\n",
        "  # np.dot(x_min_mean.T, inv_cov)"
      ],
      "metadata": {
        "id": "SkkaWNPtFes6"
      },
      "execution_count": 12,
      "outputs": []
    },
    {
      "cell_type": "code",
      "source": [
        "# Buat Dataset\n",
        "df = pd.DataFrame({\\\n",
        "    \"Diameter (f1)\":[7.0, 7.4, 7.1, 7.3, 7.2, 7.1, 6.0],\\\n",
        "    \"Berat (f2)\":[165, 160, 170, 150, 160, 145, 100],\\\n",
        "    \"Tingkat Kemerahan (f3)\":[5, 5, 4, 5, 3, 3, 5]\\\n",
        "    })\n",
        "print(df.iloc[0])"
      ],
      "metadata": {
        "colab": {
          "base_uri": "https://localhost:8080/"
        },
        "id": "mW3NYnTkFsq6",
        "outputId": "c311bd61-d667-4d11-9ac3-3f903f57e517"
      },
      "execution_count": 13,
      "outputs": [
        {
          "output_type": "stream",
          "name": "stdout",
          "text": [
            "Diameter (f1)               7.0\n",
            "Berat (f2)                165.0\n",
            "Tingkat Kemerahan (f3)      5.0\n",
            "Name: 0, dtype: float64\n"
          ]
        }
      ]
    },
    {
      "cell_type": "code",
      "source": [
        "# Hitung Kovarians dan Inverse-Kovarians\n",
        "cov_df = np.cov(df.values.T)\n",
        "cov_df"
      ],
      "metadata": {
        "colab": {
          "base_uri": "https://localhost:8080/"
        },
        "id": "KHABzSO3GH5O",
        "outputId": "e03a029b-e48a-4324-94d9-95d794258fc3"
      },
      "execution_count": 14,
      "outputs": [
        {
          "output_type": "execute_result",
          "data": {
            "text/plain": [
              "array([[ 2.18095238e-01,  9.58333333e+00, -1.04761905e-01],\n",
              "       [ 9.58333333e+00,  5.58333333e+02, -5.00000000e+00],\n",
              "       [-1.04761905e-01, -5.00000000e+00,  9.04761905e-01]])"
            ]
          },
          "metadata": {},
          "execution_count": 14
        }
      ]
    },
    {
      "cell_type": "code",
      "source": [
        "df.values[0]"
      ],
      "metadata": {
        "colab": {
          "base_uri": "https://localhost:8080/"
        },
        "id": "ZSahXdXIGOhE",
        "outputId": "518fc0b5-8d36-4e9a-faf1-dcfb1202b334"
      },
      "execution_count": 15,
      "outputs": [
        {
          "output_type": "execute_result",
          "data": {
            "text/plain": [
              "array([  7., 165.,   5.])"
            ]
          },
          "metadata": {},
          "execution_count": 15
        }
      ]
    },
    {
      "cell_type": "code",
      "source": [
        "mahalanobis(df, df)"
      ],
      "metadata": {
        "colab": {
          "base_uri": "https://localhost:8080/"
        },
        "id": "nZXjh1U9GYRG",
        "outputId": "2abf46fc-236c-4df2-fb8e-5b1334562e60"
      },
      "execution_count": 16,
      "outputs": [
        {
          "output_type": "execute_result",
          "data": {
            "text/plain": [
              "array([2.444376  , 1.94047203, 1.99978912, 2.30173528, 1.84568898,\n",
              "       2.48353228, 4.9844063 ])"
            ]
          },
          "metadata": {},
          "execution_count": 16
        }
      ]
    },
    {
      "cell_type": "code",
      "source": [
        "# Hitung Jarak Mahalanobis\n",
        "df_final = df.copy()\n",
        "df_final[\"Mahalanobis\"] = mahalanobis(df, df)"
      ],
      "metadata": {
        "id": "2ZPFWFZOGapX"
      },
      "execution_count": 17,
      "outputs": []
    },
    {
      "cell_type": "code",
      "source": [
        "df_final"
      ],
      "metadata": {
        "colab": {
          "base_uri": "https://localhost:8080/",
          "height": 269
        },
        "id": "nSEU4XdtGjRp",
        "outputId": "0539fa59-526c-4172-fdd0-2babe54783e2"
      },
      "execution_count": 18,
      "outputs": [
        {
          "output_type": "execute_result",
          "data": {
            "text/plain": [
              "   Diameter (f1)  Berat (f2)  Tingkat Kemerahan (f3)  Mahalanobis\n",
              "0            7.0         165                       5     2.444376\n",
              "1            7.4         160                       5     1.940472\n",
              "2            7.1         170                       4     1.999789\n",
              "3            7.3         150                       5     2.301735\n",
              "4            7.2         160                       3     1.845689\n",
              "5            7.1         145                       3     2.483532\n",
              "6            6.0         100                       5     4.984406"
            ],
            "text/html": [
              "\n",
              "  <div id=\"df-d3319112-1984-4ea6-977b-7dbaada8df70\">\n",
              "    <div class=\"colab-df-container\">\n",
              "      <div>\n",
              "<style scoped>\n",
              "    .dataframe tbody tr th:only-of-type {\n",
              "        vertical-align: middle;\n",
              "    }\n",
              "\n",
              "    .dataframe tbody tr th {\n",
              "        vertical-align: top;\n",
              "    }\n",
              "\n",
              "    .dataframe thead th {\n",
              "        text-align: right;\n",
              "    }\n",
              "</style>\n",
              "<table border=\"1\" class=\"dataframe\">\n",
              "  <thead>\n",
              "    <tr style=\"text-align: right;\">\n",
              "      <th></th>\n",
              "      <th>Diameter (f1)</th>\n",
              "      <th>Berat (f2)</th>\n",
              "      <th>Tingkat Kemerahan (f3)</th>\n",
              "      <th>Mahalanobis</th>\n",
              "    </tr>\n",
              "  </thead>\n",
              "  <tbody>\n",
              "    <tr>\n",
              "      <th>0</th>\n",
              "      <td>7.0</td>\n",
              "      <td>165</td>\n",
              "      <td>5</td>\n",
              "      <td>2.444376</td>\n",
              "    </tr>\n",
              "    <tr>\n",
              "      <th>1</th>\n",
              "      <td>7.4</td>\n",
              "      <td>160</td>\n",
              "      <td>5</td>\n",
              "      <td>1.940472</td>\n",
              "    </tr>\n",
              "    <tr>\n",
              "      <th>2</th>\n",
              "      <td>7.1</td>\n",
              "      <td>170</td>\n",
              "      <td>4</td>\n",
              "      <td>1.999789</td>\n",
              "    </tr>\n",
              "    <tr>\n",
              "      <th>3</th>\n",
              "      <td>7.3</td>\n",
              "      <td>150</td>\n",
              "      <td>5</td>\n",
              "      <td>2.301735</td>\n",
              "    </tr>\n",
              "    <tr>\n",
              "      <th>4</th>\n",
              "      <td>7.2</td>\n",
              "      <td>160</td>\n",
              "      <td>3</td>\n",
              "      <td>1.845689</td>\n",
              "    </tr>\n",
              "    <tr>\n",
              "      <th>5</th>\n",
              "      <td>7.1</td>\n",
              "      <td>145</td>\n",
              "      <td>3</td>\n",
              "      <td>2.483532</td>\n",
              "    </tr>\n",
              "    <tr>\n",
              "      <th>6</th>\n",
              "      <td>6.0</td>\n",
              "      <td>100</td>\n",
              "      <td>5</td>\n",
              "      <td>4.984406</td>\n",
              "    </tr>\n",
              "  </tbody>\n",
              "</table>\n",
              "</div>\n",
              "      <button class=\"colab-df-convert\" onclick=\"convertToInteractive('df-d3319112-1984-4ea6-977b-7dbaada8df70')\"\n",
              "              title=\"Convert this dataframe to an interactive table.\"\n",
              "              style=\"display:none;\">\n",
              "        \n",
              "  <svg xmlns=\"http://www.w3.org/2000/svg\" height=\"24px\"viewBox=\"0 0 24 24\"\n",
              "       width=\"24px\">\n",
              "    <path d=\"M0 0h24v24H0V0z\" fill=\"none\"/>\n",
              "    <path d=\"M18.56 5.44l.94 2.06.94-2.06 2.06-.94-2.06-.94-.94-2.06-.94 2.06-2.06.94zm-11 1L8.5 8.5l.94-2.06 2.06-.94-2.06-.94L8.5 2.5l-.94 2.06-2.06.94zm10 10l.94 2.06.94-2.06 2.06-.94-2.06-.94-.94-2.06-.94 2.06-2.06.94z\"/><path d=\"M17.41 7.96l-1.37-1.37c-.4-.4-.92-.59-1.43-.59-.52 0-1.04.2-1.43.59L10.3 9.45l-7.72 7.72c-.78.78-.78 2.05 0 2.83L4 21.41c.39.39.9.59 1.41.59.51 0 1.02-.2 1.41-.59l7.78-7.78 2.81-2.81c.8-.78.8-2.07 0-2.86zM5.41 20L4 18.59l7.72-7.72 1.47 1.35L5.41 20z\"/>\n",
              "  </svg>\n",
              "      </button>\n",
              "      \n",
              "  <style>\n",
              "    .colab-df-container {\n",
              "      display:flex;\n",
              "      flex-wrap:wrap;\n",
              "      gap: 12px;\n",
              "    }\n",
              "\n",
              "    .colab-df-convert {\n",
              "      background-color: #E8F0FE;\n",
              "      border: none;\n",
              "      border-radius: 50%;\n",
              "      cursor: pointer;\n",
              "      display: none;\n",
              "      fill: #1967D2;\n",
              "      height: 32px;\n",
              "      padding: 0 0 0 0;\n",
              "      width: 32px;\n",
              "    }\n",
              "\n",
              "    .colab-df-convert:hover {\n",
              "      background-color: #E2EBFA;\n",
              "      box-shadow: 0px 1px 2px rgba(60, 64, 67, 0.3), 0px 1px 3px 1px rgba(60, 64, 67, 0.15);\n",
              "      fill: #174EA6;\n",
              "    }\n",
              "\n",
              "    [theme=dark] .colab-df-convert {\n",
              "      background-color: #3B4455;\n",
              "      fill: #D2E3FC;\n",
              "    }\n",
              "\n",
              "    [theme=dark] .colab-df-convert:hover {\n",
              "      background-color: #434B5C;\n",
              "      box-shadow: 0px 1px 3px 1px rgba(0, 0, 0, 0.15);\n",
              "      filter: drop-shadow(0px 1px 2px rgba(0, 0, 0, 0.3));\n",
              "      fill: #FFFFFF;\n",
              "    }\n",
              "  </style>\n",
              "\n",
              "      <script>\n",
              "        const buttonEl =\n",
              "          document.querySelector('#df-d3319112-1984-4ea6-977b-7dbaada8df70 button.colab-df-convert');\n",
              "        buttonEl.style.display =\n",
              "          google.colab.kernel.accessAllowed ? 'block' : 'none';\n",
              "\n",
              "        async function convertToInteractive(key) {\n",
              "          const element = document.querySelector('#df-d3319112-1984-4ea6-977b-7dbaada8df70');\n",
              "          const dataTable =\n",
              "            await google.colab.kernel.invokeFunction('convertToInteractive',\n",
              "                                                     [key], {});\n",
              "          if (!dataTable) return;\n",
              "\n",
              "          const docLinkHtml = 'Like what you see? Visit the ' +\n",
              "            '<a target=\"_blank\" href=https://colab.research.google.com/notebooks/data_table.ipynb>data table notebook</a>'\n",
              "            + ' to learn more about interactive tables.';\n",
              "          element.innerHTML = '';\n",
              "          dataTable['output_type'] = 'display_data';\n",
              "          await google.colab.output.renderOutput(dataTable, element);\n",
              "          const docLink = document.createElement('div');\n",
              "          docLink.innerHTML = docLinkHtml;\n",
              "          element.appendChild(docLink);\n",
              "        }\n",
              "      </script>\n",
              "    </div>\n",
              "  </div>\n",
              "  "
            ]
          },
          "metadata": {},
          "execution_count": 18
        }
      ]
    },
    {
      "cell_type": "code",
      "source": [
        "from scipy.stats import chi2"
      ],
      "metadata": {
        "id": "1kIYdfzJGseZ"
      },
      "execution_count": 19,
      "outputs": []
    },
    {
      "cell_type": "code",
      "source": [
        "df_final['p'] = chi2.sf(df_final['Mahalanobis'], 3)"
      ],
      "metadata": {
        "id": "pttNXFAaGzVm"
      },
      "execution_count": 20,
      "outputs": []
    },
    {
      "cell_type": "code",
      "source": [
        "df_final"
      ],
      "metadata": {
        "colab": {
          "base_uri": "https://localhost:8080/",
          "height": 269
        },
        "id": "QoCn7_EXG7Ej",
        "outputId": "5b256370-eec6-4644-8e80-196753dd4add"
      },
      "execution_count": 21,
      "outputs": [
        {
          "output_type": "execute_result",
          "data": {
            "text/plain": [
              "   Diameter (f1)  Berat (f2)  Tingkat Kemerahan (f3)  Mahalanobis         p\n",
              "0            7.0         165                       5     2.444376  0.485428\n",
              "1            7.4         160                       5     1.940472  0.584853\n",
              "2            7.1         170                       4     1.999789  0.572450\n",
              "3            7.3         150                       5     2.301735  0.512189\n",
              "4            7.2         160                       3     1.845689  0.605043\n",
              "5            7.1         145                       3     2.483532  0.478275\n",
              "6            6.0         100                       5     4.984406  0.172943"
            ],
            "text/html": [
              "\n",
              "  <div id=\"df-0c86b091-bd8e-452e-ace4-facf82aa3862\">\n",
              "    <div class=\"colab-df-container\">\n",
              "      <div>\n",
              "<style scoped>\n",
              "    .dataframe tbody tr th:only-of-type {\n",
              "        vertical-align: middle;\n",
              "    }\n",
              "\n",
              "    .dataframe tbody tr th {\n",
              "        vertical-align: top;\n",
              "    }\n",
              "\n",
              "    .dataframe thead th {\n",
              "        text-align: right;\n",
              "    }\n",
              "</style>\n",
              "<table border=\"1\" class=\"dataframe\">\n",
              "  <thead>\n",
              "    <tr style=\"text-align: right;\">\n",
              "      <th></th>\n",
              "      <th>Diameter (f1)</th>\n",
              "      <th>Berat (f2)</th>\n",
              "      <th>Tingkat Kemerahan (f3)</th>\n",
              "      <th>Mahalanobis</th>\n",
              "      <th>p</th>\n",
              "    </tr>\n",
              "  </thead>\n",
              "  <tbody>\n",
              "    <tr>\n",
              "      <th>0</th>\n",
              "      <td>7.0</td>\n",
              "      <td>165</td>\n",
              "      <td>5</td>\n",
              "      <td>2.444376</td>\n",
              "      <td>0.485428</td>\n",
              "    </tr>\n",
              "    <tr>\n",
              "      <th>1</th>\n",
              "      <td>7.4</td>\n",
              "      <td>160</td>\n",
              "      <td>5</td>\n",
              "      <td>1.940472</td>\n",
              "      <td>0.584853</td>\n",
              "    </tr>\n",
              "    <tr>\n",
              "      <th>2</th>\n",
              "      <td>7.1</td>\n",
              "      <td>170</td>\n",
              "      <td>4</td>\n",
              "      <td>1.999789</td>\n",
              "      <td>0.572450</td>\n",
              "    </tr>\n",
              "    <tr>\n",
              "      <th>3</th>\n",
              "      <td>7.3</td>\n",
              "      <td>150</td>\n",
              "      <td>5</td>\n",
              "      <td>2.301735</td>\n",
              "      <td>0.512189</td>\n",
              "    </tr>\n",
              "    <tr>\n",
              "      <th>4</th>\n",
              "      <td>7.2</td>\n",
              "      <td>160</td>\n",
              "      <td>3</td>\n",
              "      <td>1.845689</td>\n",
              "      <td>0.605043</td>\n",
              "    </tr>\n",
              "    <tr>\n",
              "      <th>5</th>\n",
              "      <td>7.1</td>\n",
              "      <td>145</td>\n",
              "      <td>3</td>\n",
              "      <td>2.483532</td>\n",
              "      <td>0.478275</td>\n",
              "    </tr>\n",
              "    <tr>\n",
              "      <th>6</th>\n",
              "      <td>6.0</td>\n",
              "      <td>100</td>\n",
              "      <td>5</td>\n",
              "      <td>4.984406</td>\n",
              "      <td>0.172943</td>\n",
              "    </tr>\n",
              "  </tbody>\n",
              "</table>\n",
              "</div>\n",
              "      <button class=\"colab-df-convert\" onclick=\"convertToInteractive('df-0c86b091-bd8e-452e-ace4-facf82aa3862')\"\n",
              "              title=\"Convert this dataframe to an interactive table.\"\n",
              "              style=\"display:none;\">\n",
              "        \n",
              "  <svg xmlns=\"http://www.w3.org/2000/svg\" height=\"24px\"viewBox=\"0 0 24 24\"\n",
              "       width=\"24px\">\n",
              "    <path d=\"M0 0h24v24H0V0z\" fill=\"none\"/>\n",
              "    <path d=\"M18.56 5.44l.94 2.06.94-2.06 2.06-.94-2.06-.94-.94-2.06-.94 2.06-2.06.94zm-11 1L8.5 8.5l.94-2.06 2.06-.94-2.06-.94L8.5 2.5l-.94 2.06-2.06.94zm10 10l.94 2.06.94-2.06 2.06-.94-2.06-.94-.94-2.06-.94 2.06-2.06.94z\"/><path d=\"M17.41 7.96l-1.37-1.37c-.4-.4-.92-.59-1.43-.59-.52 0-1.04.2-1.43.59L10.3 9.45l-7.72 7.72c-.78.78-.78 2.05 0 2.83L4 21.41c.39.39.9.59 1.41.59.51 0 1.02-.2 1.41-.59l7.78-7.78 2.81-2.81c.8-.78.8-2.07 0-2.86zM5.41 20L4 18.59l7.72-7.72 1.47 1.35L5.41 20z\"/>\n",
              "  </svg>\n",
              "      </button>\n",
              "      \n",
              "  <style>\n",
              "    .colab-df-container {\n",
              "      display:flex;\n",
              "      flex-wrap:wrap;\n",
              "      gap: 12px;\n",
              "    }\n",
              "\n",
              "    .colab-df-convert {\n",
              "      background-color: #E8F0FE;\n",
              "      border: none;\n",
              "      border-radius: 50%;\n",
              "      cursor: pointer;\n",
              "      display: none;\n",
              "      fill: #1967D2;\n",
              "      height: 32px;\n",
              "      padding: 0 0 0 0;\n",
              "      width: 32px;\n",
              "    }\n",
              "\n",
              "    .colab-df-convert:hover {\n",
              "      background-color: #E2EBFA;\n",
              "      box-shadow: 0px 1px 2px rgba(60, 64, 67, 0.3), 0px 1px 3px 1px rgba(60, 64, 67, 0.15);\n",
              "      fill: #174EA6;\n",
              "    }\n",
              "\n",
              "    [theme=dark] .colab-df-convert {\n",
              "      background-color: #3B4455;\n",
              "      fill: #D2E3FC;\n",
              "    }\n",
              "\n",
              "    [theme=dark] .colab-df-convert:hover {\n",
              "      background-color: #434B5C;\n",
              "      box-shadow: 0px 1px 3px 1px rgba(0, 0, 0, 0.15);\n",
              "      filter: drop-shadow(0px 1px 2px rgba(0, 0, 0, 0.3));\n",
              "      fill: #FFFFFF;\n",
              "    }\n",
              "  </style>\n",
              "\n",
              "      <script>\n",
              "        const buttonEl =\n",
              "          document.querySelector('#df-0c86b091-bd8e-452e-ace4-facf82aa3862 button.colab-df-convert');\n",
              "        buttonEl.style.display =\n",
              "          google.colab.kernel.accessAllowed ? 'block' : 'none';\n",
              "\n",
              "        async function convertToInteractive(key) {\n",
              "          const element = document.querySelector('#df-0c86b091-bd8e-452e-ace4-facf82aa3862');\n",
              "          const dataTable =\n",
              "            await google.colab.kernel.invokeFunction('convertToInteractive',\n",
              "                                                     [key], {});\n",
              "          if (!dataTable) return;\n",
              "\n",
              "          const docLinkHtml = 'Like what you see? Visit the ' +\n",
              "            '<a target=\"_blank\" href=https://colab.research.google.com/notebooks/data_table.ipynb>data table notebook</a>'\n",
              "            + ' to learn more about interactive tables.';\n",
              "          element.innerHTML = '';\n",
              "          dataTable['output_type'] = 'display_data';\n",
              "          await google.colab.output.renderOutput(dataTable, element);\n",
              "          const docLink = document.createElement('div');\n",
              "          docLink.innerHTML = docLinkHtml;\n",
              "          element.appendChild(docLink);\n",
              "        }\n",
              "      </script>\n",
              "    </div>\n",
              "  </div>\n",
              "  "
            ]
          },
          "metadata": {},
          "execution_count": 21
        }
      ]
    }
  ]
}