{
  "nbformat": 4,
  "nbformat_minor": 0,
  "metadata": {
    "colab": {
      "provenance": []
    },
    "kernelspec": {
      "name": "python3",
      "display_name": "Python 3"
    },
    "language_info": {
      "name": "python"
    }
  },
  "cells": [
    {
      "cell_type": "code",
      "execution_count": null,
      "metadata": {
        "id": "Kg0hSwbIklo4"
      },
      "outputs": [],
      "source": []
    },
    {
      "cell_type": "markdown",
      "source": [
        "##pertemuan 1\n",
        "* Pemrograman Dasar di Python"
      ],
      "metadata": {
        "id": "tUwqgSvKnnl6"
      }
    },
    {
      "cell_type": "markdown",
      "source": [
        "##Variable\n",
        "* Deklarasi nilai ke dalam variabel"
      ],
      "metadata": {
        "id": "FGlZSe-Mn6vN"
      }
    },
    {
      "cell_type": "code",
      "source": [
        " # input \"8\" ke dalam variable A\n",
        " A = 8\n",
        "print(A)\n",
        "print(\"output:\", A)\n"
      ],
      "metadata": {
        "colab": {
          "base_uri": "https://localhost:8080/"
        },
        "id": "jKM_eQFZoOac",
        "outputId": "96fc16b0-36b1-469c-e9e4-66e649b7b88b"
      },
      "execution_count": null,
      "outputs": [
        {
          "output_type": "stream",
          "name": "stdout",
          "text": [
            "8\n",
            "output: 8\n"
          ]
        }
      ]
    },
    {
      "cell_type": "code",
      "source": [
        "A = \"8\"\n",
        "print(A)\n",
        "print(type(A))\n",
        "B = int(A)\n",
        "print(B)\n",
        "print(type(B))"
      ],
      "metadata": {
        "colab": {
          "base_uri": "https://localhost:8080/"
        },
        "id": "Jf1XO9NGo2h8",
        "outputId": "810bdcb1-1a06-4425-bf0b-bea14c949a51"
      },
      "execution_count": null,
      "outputs": [
        {
          "output_type": "stream",
          "name": "stdout",
          "text": [
            "8\n",
            "<class 'str'>\n",
            "8\n",
            "<class 'int'>\n"
          ]
        }
      ]
    },
    {
      "cell_type": "code",
      "source": [
        "# input nilai sebagai list \n",
        "nilai = [70,80,90,100,85]\n",
        "# nilai\n",
        "print(nilai)"
      ],
      "metadata": {
        "colab": {
          "base_uri": "https://localhost:8080/"
        },
        "id": "xINF47mDpOxV",
        "outputId": "c8e83479-db43-4582-9c59-75cf7d61d9f0"
      },
      "execution_count": null,
      "outputs": [
        {
          "output_type": "stream",
          "name": "stdout",
          "text": [
            "[70, 80, 90, 100, 85]\n"
          ]
        }
      ]
    },
    {
      "cell_type": "code",
      "source": [
        "data = [80,\"A\",\"Joni\"]\n",
        "print(data)"
      ],
      "metadata": {
        "colab": {
          "base_uri": "https://localhost:8080/"
        },
        "id": "BQYH89IJpdRa",
        "outputId": "916eaa00-2c28-411d-9faa-0c031f0e5a90"
      },
      "execution_count": null,
      "outputs": [
        {
          "output_type": "stream",
          "name": "stdout",
          "text": [
            "[80, 'A', 'Joni']\n"
          ]
        }
      ]
    },
    {
      "cell_type": "markdown",
      "source": [
        "##Conditional\n",
        "* Mengeksekusi nilai berdasarkan kondisi"
      ],
      "metadata": {
        "id": "MWU6hVTcqahf"
      }
    },
    {
      "cell_type": "code",
      "source": [
        "if 7 == A:\n",
        "  print(\"Nilai 7 sama dengan nilai A yang mana adalah\", A)\n",
        "else:\n",
        "  print(\"Nilai 7 tidak sama dengan nilai A yang mana adalah\",A)"
      ],
      "metadata": {
        "colab": {
          "base_uri": "https://localhost:8080/"
        },
        "id": "jDZ9rrnUqpk2",
        "outputId": "95949f25-0075-4e9e-bde3-8cac5d052473"
      },
      "execution_count": null,
      "outputs": [
        {
          "output_type": "stream",
          "name": "stdout",
          "text": [
            "Nilai 7 tidak sama dengan nilai A yang mana adalah 8\n"
          ]
        }
      ]
    },
    {
      "cell_type": "code",
      "source": [
        "# mengecek nilai didalam list\n",
        "if 70 in nilai:\n",
        "  print(\"ada nilai 70 didalam list\")\n",
        "else:\n",
        "  print(\"tidak ada didalam list\")"
      ],
      "metadata": {
        "colab": {
          "base_uri": "https://localhost:8080/"
        },
        "id": "fSrxslONrJO2",
        "outputId": "40834195-4870-4ecc-a0a0-7903f0353976"
      },
      "execution_count": null,
      "outputs": [
        {
          "output_type": "stream",
          "name": "stdout",
          "text": [
            "ada nilai 70 didalam list\n"
          ]
        }
      ]
    },
    {
      "cell_type": "markdown",
      "source": [
        "##Looping\n",
        "* Mengeksekusi nilai berdasarkan perulangan"
      ],
      "metadata": {
        "id": "f9174XDor93p"
      }
    },
    {
      "cell_type": "code",
      "source": [
        "# mencetak perkalian angka 2 dengan angka 0 sampai 10\n",
        "for i in range(10):\n",
        "  print(i*2)"
      ],
      "metadata": {
        "colab": {
          "base_uri": "https://localhost:8080/"
        },
        "id": "VS_jBsoRsHIr",
        "outputId": "42a12d01-1e1f-4fdf-bad4-2dc76160cf29"
      },
      "execution_count": null,
      "outputs": [
        {
          "output_type": "stream",
          "name": "stdout",
          "text": [
            "0\n",
            "2\n",
            "4\n",
            "6\n",
            "8\n",
            "10\n",
            "12\n",
            "14\n",
            "16\n",
            "18\n"
          ]
        }
      ]
    },
    {
      "cell_type": "markdown",
      "source": [
        "## User Define Function\n",
        "* mendeklarasikan fungsi yang dibuat sendiri dengan awalah def nama_fungsi(parameter): isi fungsi"
      ],
      "metadata": {
        "id": "aiWzxr1ysyMc"
      }
    },
    {
      "cell_type": "code",
      "source": [
        "# fungsi yang mencetak suatu nilai\n",
        "def cetak_a():\n",
        "  print(\"A\")\n",
        "\n",
        "#panggil fungsi cetak_a\n",
        "cetak_a()"
      ],
      "metadata": {
        "colab": {
          "base_uri": "https://localhost:8080/"
        },
        "id": "1f3EUztHtGSA",
        "outputId": "fe0757e2-315b-4ea5-a992-ac2b817726d0"
      },
      "execution_count": null,
      "outputs": [
        {
          "output_type": "stream",
          "name": "stdout",
          "text": [
            "A\n"
          ]
        }
      ]
    },
    {
      "cell_type": "code",
      "source": [
        "# fungsi yang mengembalikan suatu nilai dari suatau masukan\n",
        "def cetak_pangkat_dua(x):\n",
        "  x = x**2\n",
        "  return x\n",
        "\n",
        " # panggil fungsi cetak_pangkat_dua dengan inputan tertentu\n",
        "print(cetak_pangkat_dua(4))"
      ],
      "metadata": {
        "colab": {
          "base_uri": "https://localhost:8080/"
        },
        "id": "9VBiK6EdtYt0",
        "outputId": "fe39b79b-d4fe-4705-b894-c764692f5db1"
      },
      "execution_count": null,
      "outputs": [
        {
          "output_type": "stream",
          "name": "stdout",
          "text": [
            "16\n"
          ]
        }
      ]
    },
    {
      "cell_type": "markdown",
      "source": [
        "## Built-in funtion\n",
        "* Memanggil fungsi bawaan dari Python"
      ],
      "metadata": {
        "id": "3S1iuqiDu76F"
      }
    },
    {
      "cell_type": "code",
      "source": [
        "# nilai = [70,80,90,100,85]\n",
        "# memnaggil fungsi len untuk mencetak jumlah item dari list\n",
        "print(len(nilai))\n",
        "\n",
        "# memanggil fungsi max untuk mencetak item terbesar dari list\n",
        "print(max(nilai))\n",
        "\n",
        "#untuk tahu fungsi bawaan dari library yang ada, perlu baca dokumentasinya"
      ],
      "metadata": {
        "colab": {
          "base_uri": "https://localhost:8080/"
        },
        "id": "CxCKzyfSvFHu",
        "outputId": "a667f22f-ae09-4356-c03b-2fa2a4b74242"
      },
      "execution_count": null,
      "outputs": [
        {
          "output_type": "stream",
          "name": "stdout",
          "text": [
            "5\n",
            "100\n"
          ]
        }
      ]
    },
    {
      "cell_type": "markdown",
      "source": [
        "## Library\n",
        "* Sekumpulan kode yang memiliki fungsi-fungsi tertentu dan dapat dipanggil kedalam program lain"
      ],
      "metadata": {
        "id": "GfWABIecvmbX"
      }
    },
    {
      "cell_type": "code",
      "source": [
        "# deklarasi library dengan fungsi yang ada didalamnya\n",
        "import numpy as np\n",
        "\n",
        "#inisiasi vector dan nilai skalar\n",
        "list1 = [1,2,3,4,5]\n",
        "vtr1 = np.array(list1)\n",
        "scalar_value = 10\n",
        "\n",
        "# operasi perkalian vector-scalar\n",
        "vtr_scalar = vtr1 * scalar_value\n",
        "print(vtr_scalar)"
      ],
      "metadata": {
        "colab": {
          "base_uri": "https://localhost:8080/"
        },
        "id": "znWNYLvawDQt",
        "outputId": "ef6467c5-7fe4-4004-9b8f-a32fbc257eeb"
      },
      "execution_count": null,
      "outputs": [
        {
          "output_type": "stream",
          "name": "stdout",
          "text": [
            "[10 20 30 40 50]\n"
          ]
        }
      ]
    },
    {
      "cell_type": "code",
      "source": [
        "# deklarasi library dengan menggunakan nama alias\n",
        "import pandas as pd\n",
        "\n",
        "# membuat variabel dataframe (df) dengan isi list nilai dan nama kolom \"nilai\"\n",
        "df = pd.DataFrame(nilai, columns=[\"nilai\"])\n",
        "df #dataframe"
      ],
      "metadata": {
        "colab": {
          "base_uri": "https://localhost:8080/",
          "height": 206
        },
        "id": "tlzX2ntdxPX_",
        "outputId": "b266b467-eae6-43d6-da84-53b2dd323182"
      },
      "execution_count": null,
      "outputs": [
        {
          "output_type": "execute_result",
          "data": {
            "text/plain": [
              "   nilai\n",
              "0     70\n",
              "1     80\n",
              "2     90\n",
              "3    100\n",
              "4     85"
            ],
            "text/html": [
              "\n",
              "  <div id=\"df-a59071dc-d87f-47f6-a3f4-15355d3565d6\">\n",
              "    <div class=\"colab-df-container\">\n",
              "      <div>\n",
              "<style scoped>\n",
              "    .dataframe tbody tr th:only-of-type {\n",
              "        vertical-align: middle;\n",
              "    }\n",
              "\n",
              "    .dataframe tbody tr th {\n",
              "        vertical-align: top;\n",
              "    }\n",
              "\n",
              "    .dataframe thead th {\n",
              "        text-align: right;\n",
              "    }\n",
              "</style>\n",
              "<table border=\"1\" class=\"dataframe\">\n",
              "  <thead>\n",
              "    <tr style=\"text-align: right;\">\n",
              "      <th></th>\n",
              "      <th>nilai</th>\n",
              "    </tr>\n",
              "  </thead>\n",
              "  <tbody>\n",
              "    <tr>\n",
              "      <th>0</th>\n",
              "      <td>70</td>\n",
              "    </tr>\n",
              "    <tr>\n",
              "      <th>1</th>\n",
              "      <td>80</td>\n",
              "    </tr>\n",
              "    <tr>\n",
              "      <th>2</th>\n",
              "      <td>90</td>\n",
              "    </tr>\n",
              "    <tr>\n",
              "      <th>3</th>\n",
              "      <td>100</td>\n",
              "    </tr>\n",
              "    <tr>\n",
              "      <th>4</th>\n",
              "      <td>85</td>\n",
              "    </tr>\n",
              "  </tbody>\n",
              "</table>\n",
              "</div>\n",
              "      <button class=\"colab-df-convert\" onclick=\"convertToInteractive('df-a59071dc-d87f-47f6-a3f4-15355d3565d6')\"\n",
              "              title=\"Convert this dataframe to an interactive table.\"\n",
              "              style=\"display:none;\">\n",
              "        \n",
              "  <svg xmlns=\"http://www.w3.org/2000/svg\" height=\"24px\"viewBox=\"0 0 24 24\"\n",
              "       width=\"24px\">\n",
              "    <path d=\"M0 0h24v24H0V0z\" fill=\"none\"/>\n",
              "    <path d=\"M18.56 5.44l.94 2.06.94-2.06 2.06-.94-2.06-.94-.94-2.06-.94 2.06-2.06.94zm-11 1L8.5 8.5l.94-2.06 2.06-.94-2.06-.94L8.5 2.5l-.94 2.06-2.06.94zm10 10l.94 2.06.94-2.06 2.06-.94-2.06-.94-.94-2.06-.94 2.06-2.06.94z\"/><path d=\"M17.41 7.96l-1.37-1.37c-.4-.4-.92-.59-1.43-.59-.52 0-1.04.2-1.43.59L10.3 9.45l-7.72 7.72c-.78.78-.78 2.05 0 2.83L4 21.41c.39.39.9.59 1.41.59.51 0 1.02-.2 1.41-.59l7.78-7.78 2.81-2.81c.8-.78.8-2.07 0-2.86zM5.41 20L4 18.59l7.72-7.72 1.47 1.35L5.41 20z\"/>\n",
              "  </svg>\n",
              "      </button>\n",
              "      \n",
              "  <style>\n",
              "    .colab-df-container {\n",
              "      display:flex;\n",
              "      flex-wrap:wrap;\n",
              "      gap: 12px;\n",
              "    }\n",
              "\n",
              "    .colab-df-convert {\n",
              "      background-color: #E8F0FE;\n",
              "      border: none;\n",
              "      border-radius: 50%;\n",
              "      cursor: pointer;\n",
              "      display: none;\n",
              "      fill: #1967D2;\n",
              "      height: 32px;\n",
              "      padding: 0 0 0 0;\n",
              "      width: 32px;\n",
              "    }\n",
              "\n",
              "    .colab-df-convert:hover {\n",
              "      background-color: #E2EBFA;\n",
              "      box-shadow: 0px 1px 2px rgba(60, 64, 67, 0.3), 0px 1px 3px 1px rgba(60, 64, 67, 0.15);\n",
              "      fill: #174EA6;\n",
              "    }\n",
              "\n",
              "    [theme=dark] .colab-df-convert {\n",
              "      background-color: #3B4455;\n",
              "      fill: #D2E3FC;\n",
              "    }\n",
              "\n",
              "    [theme=dark] .colab-df-convert:hover {\n",
              "      background-color: #434B5C;\n",
              "      box-shadow: 0px 1px 3px 1px rgba(0, 0, 0, 0.15);\n",
              "      filter: drop-shadow(0px 1px 2px rgba(0, 0, 0, 0.3));\n",
              "      fill: #FFFFFF;\n",
              "    }\n",
              "  </style>\n",
              "\n",
              "      <script>\n",
              "        const buttonEl =\n",
              "          document.querySelector('#df-a59071dc-d87f-47f6-a3f4-15355d3565d6 button.colab-df-convert');\n",
              "        buttonEl.style.display =\n",
              "          google.colab.kernel.accessAllowed ? 'block' : 'none';\n",
              "\n",
              "        async function convertToInteractive(key) {\n",
              "          const element = document.querySelector('#df-a59071dc-d87f-47f6-a3f4-15355d3565d6');\n",
              "          const dataTable =\n",
              "            await google.colab.kernel.invokeFunction('convertToInteractive',\n",
              "                                                     [key], {});\n",
              "          if (!dataTable) return;\n",
              "\n",
              "          const docLinkHtml = 'Like what you see? Visit the ' +\n",
              "            '<a target=\"_blank\" href=https://colab.research.google.com/notebooks/data_table.ipynb>data table notebook</a>'\n",
              "            + ' to learn more about interactive tables.';\n",
              "          element.innerHTML = '';\n",
              "          dataTable['output_type'] = 'display_data';\n",
              "          await google.colab.output.renderOutput(dataTable, element);\n",
              "          const docLink = document.createElement('div');\n",
              "          docLink.innerHTML = docLinkHtml;\n",
              "          element.appendChild(docLink);\n",
              "        }\n",
              "      </script>\n",
              "    </div>\n",
              "  </div>\n",
              "  "
            ]
          },
          "metadata": {},
          "execution_count": 30
        }
      ]
    },
    {
      "cell_type": "markdown",
      "source": [
        "##Tugas"
      ],
      "metadata": {
        "id": "Oa1_Ngkrde9V"
      }
    },
    {
      "cell_type": "markdown",
      "source": [
        "* Nomor 1"
      ],
      "metadata": {
        "id": "iH163-a1diIb"
      }
    },
    {
      "cell_type": "code",
      "source": [
        "import numpy as np\n",
        "\n",
        "vr1 = np.array([1, 2, 3, 4, 5])\n",
        "vr2 = np.array([2, 4, 6, 8, 10])\n",
        "\n",
        "result = np.array(vr1 * vr2)\n",
        "print(result)"
      ],
      "metadata": {
        "colab": {
          "base_uri": "https://localhost:8080/"
        },
        "id": "dE0FNxTmf0pO",
        "outputId": "2492a67c-e3fd-4bf6-d684-33aeeb5259e9"
      },
      "execution_count": 6,
      "outputs": [
        {
          "output_type": "stream",
          "name": "stdout",
          "text": [
            "[ 2  8 18 32 50]\n"
          ]
        }
      ]
    },
    {
      "cell_type": "markdown",
      "source": [
        "* Nomor 2"
      ],
      "metadata": {
        "id": "9YSt9p2vh3-U"
      }
    },
    {
      "cell_type": "code",
      "source": [
        "import pandas as pd\n",
        "\n",
        "mahasiswa = ['Andi', 'Budi', 'Caca', 'Didi']\n",
        "nilai = [7, 6, 10, 8]\n",
        "\n",
        "def keterangan(nilai):\n",
        "  if(nilai < 7):\n",
        "    return \"belum lulus\"\n",
        "  else:\n",
        "      return \"lulus\"\n",
        "\n",
        "df = pd.DataFrame({'mahasiswa':mahasiswa , 'nilai':nilai,'keterangan':[keterangan(n) for n in nilai]})\n",
        "df"
      ],
      "metadata": {
        "colab": {
          "base_uri": "https://localhost:8080/",
          "height": 174
        },
        "id": "MWYrLN5Ih50p",
        "outputId": "2b9bfd9a-0d5c-4638-ae82-0ae56fd98713"
      },
      "execution_count": 31,
      "outputs": [
        {
          "output_type": "execute_result",
          "data": {
            "text/plain": [
              "  mahasiswa  nilai   keterangan\n",
              "0      Andi      7        lulus\n",
              "1      Budi      6  belum lulus\n",
              "2      Caca     10        lulus\n",
              "3      Didi      8        lulus"
            ],
            "text/html": [
              "\n",
              "  <div id=\"df-ef72a906-0563-421b-8a6f-9d8334d44a68\">\n",
              "    <div class=\"colab-df-container\">\n",
              "      <div>\n",
              "<style scoped>\n",
              "    .dataframe tbody tr th:only-of-type {\n",
              "        vertical-align: middle;\n",
              "    }\n",
              "\n",
              "    .dataframe tbody tr th {\n",
              "        vertical-align: top;\n",
              "    }\n",
              "\n",
              "    .dataframe thead th {\n",
              "        text-align: right;\n",
              "    }\n",
              "</style>\n",
              "<table border=\"1\" class=\"dataframe\">\n",
              "  <thead>\n",
              "    <tr style=\"text-align: right;\">\n",
              "      <th></th>\n",
              "      <th>mahasiswa</th>\n",
              "      <th>nilai</th>\n",
              "      <th>keterangan</th>\n",
              "    </tr>\n",
              "  </thead>\n",
              "  <tbody>\n",
              "    <tr>\n",
              "      <th>0</th>\n",
              "      <td>Andi</td>\n",
              "      <td>7</td>\n",
              "      <td>lulus</td>\n",
              "    </tr>\n",
              "    <tr>\n",
              "      <th>1</th>\n",
              "      <td>Budi</td>\n",
              "      <td>6</td>\n",
              "      <td>belum lulus</td>\n",
              "    </tr>\n",
              "    <tr>\n",
              "      <th>2</th>\n",
              "      <td>Caca</td>\n",
              "      <td>10</td>\n",
              "      <td>lulus</td>\n",
              "    </tr>\n",
              "    <tr>\n",
              "      <th>3</th>\n",
              "      <td>Didi</td>\n",
              "      <td>8</td>\n",
              "      <td>lulus</td>\n",
              "    </tr>\n",
              "  </tbody>\n",
              "</table>\n",
              "</div>\n",
              "      <button class=\"colab-df-convert\" onclick=\"convertToInteractive('df-ef72a906-0563-421b-8a6f-9d8334d44a68')\"\n",
              "              title=\"Convert this dataframe to an interactive table.\"\n",
              "              style=\"display:none;\">\n",
              "        \n",
              "  <svg xmlns=\"http://www.w3.org/2000/svg\" height=\"24px\"viewBox=\"0 0 24 24\"\n",
              "       width=\"24px\">\n",
              "    <path d=\"M0 0h24v24H0V0z\" fill=\"none\"/>\n",
              "    <path d=\"M18.56 5.44l.94 2.06.94-2.06 2.06-.94-2.06-.94-.94-2.06-.94 2.06-2.06.94zm-11 1L8.5 8.5l.94-2.06 2.06-.94-2.06-.94L8.5 2.5l-.94 2.06-2.06.94zm10 10l.94 2.06.94-2.06 2.06-.94-2.06-.94-.94-2.06-.94 2.06-2.06.94z\"/><path d=\"M17.41 7.96l-1.37-1.37c-.4-.4-.92-.59-1.43-.59-.52 0-1.04.2-1.43.59L10.3 9.45l-7.72 7.72c-.78.78-.78 2.05 0 2.83L4 21.41c.39.39.9.59 1.41.59.51 0 1.02-.2 1.41-.59l7.78-7.78 2.81-2.81c.8-.78.8-2.07 0-2.86zM5.41 20L4 18.59l7.72-7.72 1.47 1.35L5.41 20z\"/>\n",
              "  </svg>\n",
              "      </button>\n",
              "      \n",
              "  <style>\n",
              "    .colab-df-container {\n",
              "      display:flex;\n",
              "      flex-wrap:wrap;\n",
              "      gap: 12px;\n",
              "    }\n",
              "\n",
              "    .colab-df-convert {\n",
              "      background-color: #E8F0FE;\n",
              "      border: none;\n",
              "      border-radius: 50%;\n",
              "      cursor: pointer;\n",
              "      display: none;\n",
              "      fill: #1967D2;\n",
              "      height: 32px;\n",
              "      padding: 0 0 0 0;\n",
              "      width: 32px;\n",
              "    }\n",
              "\n",
              "    .colab-df-convert:hover {\n",
              "      background-color: #E2EBFA;\n",
              "      box-shadow: 0px 1px 2px rgba(60, 64, 67, 0.3), 0px 1px 3px 1px rgba(60, 64, 67, 0.15);\n",
              "      fill: #174EA6;\n",
              "    }\n",
              "\n",
              "    [theme=dark] .colab-df-convert {\n",
              "      background-color: #3B4455;\n",
              "      fill: #D2E3FC;\n",
              "    }\n",
              "\n",
              "    [theme=dark] .colab-df-convert:hover {\n",
              "      background-color: #434B5C;\n",
              "      box-shadow: 0px 1px 3px 1px rgba(0, 0, 0, 0.15);\n",
              "      filter: drop-shadow(0px 1px 2px rgba(0, 0, 0, 0.3));\n",
              "      fill: #FFFFFF;\n",
              "    }\n",
              "  </style>\n",
              "\n",
              "      <script>\n",
              "        const buttonEl =\n",
              "          document.querySelector('#df-ef72a906-0563-421b-8a6f-9d8334d44a68 button.colab-df-convert');\n",
              "        buttonEl.style.display =\n",
              "          google.colab.kernel.accessAllowed ? 'block' : 'none';\n",
              "\n",
              "        async function convertToInteractive(key) {\n",
              "          const element = document.querySelector('#df-ef72a906-0563-421b-8a6f-9d8334d44a68');\n",
              "          const dataTable =\n",
              "            await google.colab.kernel.invokeFunction('convertToInteractive',\n",
              "                                                     [key], {});\n",
              "          if (!dataTable) return;\n",
              "\n",
              "          const docLinkHtml = 'Like what you see? Visit the ' +\n",
              "            '<a target=\"_blank\" href=https://colab.research.google.com/notebooks/data_table.ipynb>data table notebook</a>'\n",
              "            + ' to learn more about interactive tables.';\n",
              "          element.innerHTML = '';\n",
              "          dataTable['output_type'] = 'display_data';\n",
              "          await google.colab.output.renderOutput(dataTable, element);\n",
              "          const docLink = document.createElement('div');\n",
              "          docLink.innerHTML = docLinkHtml;\n",
              "          element.appendChild(docLink);\n",
              "        }\n",
              "      </script>\n",
              "    </div>\n",
              "  </div>\n",
              "  "
            ]
          },
          "metadata": {},
          "execution_count": 31
        }
      ]
    },
    {
      "cell_type": "markdown",
      "source": [
        "* Nomor 3"
      ],
      "metadata": {
        "id": "n4ksd0p6oC8R"
      }
    },
    {
      "cell_type": "code",
      "source": [
        "print(f\"{df[df['keterangan'] == 'lulus'].size * 100/df.size}%\")"
      ],
      "metadata": {
        "colab": {
          "base_uri": "https://localhost:8080/"
        },
        "id": "wsyUSeZ7oFZ6",
        "outputId": "0598b978-8869-4dfc-90a1-58eed943a29c"
      },
      "execution_count": 32,
      "outputs": [
        {
          "output_type": "stream",
          "name": "stdout",
          "text": [
            "75.0%\n"
          ]
        }
      ]
    }
  ]
}